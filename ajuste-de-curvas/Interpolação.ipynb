{
 "cells": [
  {
   "cell_type": "code",
   "execution_count": 1,
   "metadata": {},
   "outputs": [],
   "source": [
    "import numpy as np"
   ]
  },
  {
   "cell_type": "code",
   "execution_count": 2,
   "metadata": {},
   "outputs": [],
   "source": [
    "def interpolLagrange(x,y,xi,ordem):\n",
    "    \n",
    "    if x.size != ordem + 1 or y.size != ordem + 1:\n",
    "        print('Quantidade de pontos inconsistente com a ordem!')\n",
    "        return\n",
    "    \n",
    "    yi = 0\n",
    "    \n",
    "    # Calculando o somatório:\n",
    "    for i in range(0,ordem + 1):\n",
    "        print('Interação: {}\\n'.format(i + 1))\n",
    "        Lnum, Ldem = 1, 1\n",
    "        \n",
    "        print('Termos do produtório:')\n",
    "        for j in range(0, ordem + 1):\n",
    "            # Calculando os produtórios:\n",
    "            if j != i:\n",
    "                Lnum *= (xi - x[j])\n",
    "                Ldem *= (x[i] - x[j])\n",
    "                \n",
    "                print('Numerador: Lnum * ({:.5f} - {:.5f}) = {:.5f}'.format(xi, x[j], Lnum))\n",
    "                print('Denominador: Ldem * ({:.5f} - {:.5f}) = {:.5f}\\n'.format(x[i], x[j], Ldem))\n",
    "            else:\n",
    "                continue\n",
    "        \n",
    "        L = Lnum / Ldem\n",
    "        yi += L*y[i]\n",
    "        \n",
    "        print('{}º termo de P(x): {:.5f}/{:.5f} * y[{:.5f}] = {:.5f}*{:.5f}\\n\\n'.format(i+1,Lnum,Ldem,i,L,y[i]))\n",
    "    \n",
    "    print('y interpolado para x:{:.5f} é igual a {:.5f}'.format(xi, yi))\n",
    "    return yi"
   ]
  },
  {
   "cell_type": "code",
   "execution_count": 9,
   "metadata": {},
   "outputs": [
    {
     "name": "stdout",
     "output_type": "stream",
     "text": [
      "Interação: 1\n",
      "\n",
      "Termos do produtório:\n",
      "Numerador: Lnum * (6.50000 - 5.00000) = 1.50000\n",
      "Denominador: Ldem * (3.00000 - 5.00000) = -2.00000\n",
      "\n",
      "Numerador: Lnum * (6.50000 - 7.00000) = -0.75000\n",
      "Denominador: Ldem * (3.00000 - 7.00000) = 8.00000\n",
      "\n",
      "Numerador: Lnum * (6.50000 - 8.00000) = 1.12500\n",
      "Denominador: Ldem * (3.00000 - 8.00000) = -40.00000\n",
      "\n",
      "1º termo de P(x): 1.12500/-40.00000 * y[0.00000] = -0.02813*19.70000\n",
      "\n",
      "\n",
      "Interação: 2\n",
      "\n",
      "Termos do produtório:\n",
      "Numerador: Lnum * (6.50000 - 3.00000) = 3.50000\n",
      "Denominador: Ldem * (5.00000 - 3.00000) = 2.00000\n",
      "\n",
      "Numerador: Lnum * (6.50000 - 7.00000) = -1.75000\n",
      "Denominador: Ldem * (5.00000 - 7.00000) = -4.00000\n",
      "\n",
      "Numerador: Lnum * (6.50000 - 8.00000) = 2.62500\n",
      "Denominador: Ldem * (5.00000 - 8.00000) = 12.00000\n",
      "\n",
      "2º termo de P(x): 2.62500/12.00000 * y[1.00000] = 0.21875*98.30000\n",
      "\n",
      "\n",
      "Interação: 3\n",
      "\n",
      "Termos do produtório:\n",
      "Numerador: Lnum * (6.50000 - 3.00000) = 3.50000\n",
      "Denominador: Ldem * (7.00000 - 3.00000) = 4.00000\n",
      "\n",
      "Numerador: Lnum * (6.50000 - 5.00000) = 5.25000\n",
      "Denominador: Ldem * (7.00000 - 5.00000) = 8.00000\n",
      "\n",
      "Numerador: Lnum * (6.50000 - 8.00000) = -7.87500\n",
      "Denominador: Ldem * (7.00000 - 8.00000) = -8.00000\n",
      "\n",
      "3º termo de P(x): -7.87500/-8.00000 * y[2.00000] = 0.98438*290.60000\n",
      "\n",
      "\n",
      "Interação: 4\n",
      "\n",
      "Termos do produtório:\n",
      "Numerador: Lnum * (6.50000 - 3.00000) = 3.50000\n",
      "Denominador: Ldem * (8.00000 - 3.00000) = 5.00000\n",
      "\n",
      "Numerador: Lnum * (6.50000 - 5.00000) = 5.25000\n",
      "Denominador: Ldem * (8.00000 - 5.00000) = 15.00000\n",
      "\n",
      "Numerador: Lnum * (6.50000 - 7.00000) = -2.62500\n",
      "Denominador: Ldem * (8.00000 - 7.00000) = 15.00000\n",
      "\n",
      "4º termo de P(x): -2.62500/15.00000 * y[3.00000] = -0.17500*443.90000\n",
      "\n",
      "\n",
      "y interpolado para x:6.50000 é igual a 229.32594\n"
     ]
    },
    {
     "data": {
      "text/plain": [
       "229.32593750000007"
      ]
     },
     "execution_count": 9,
     "metadata": {},
     "output_type": "execute_result"
    }
   ],
   "source": [
    "x  = np.array([3,5,7,8])\n",
    "y  = np.array([19.7,98.3,290.6,443.9])\n",
    "\n",
    "interpolLagrange(x,y,6.5,3)"
   ]
  },
  {
   "cell_type": "markdown",
   "metadata": {},
   "source": [
    "- Interpolação de Newton"
   ]
  },
  {
   "cell_type": "code",
   "execution_count": 3,
   "metadata": {},
   "outputs": [],
   "source": [
    "def interpNewton(x,y,xi):\n",
    "    n = len(x)\n",
    "    fdd = np.zeros((n,n))\n",
    "\n",
    "    for i in range(n):\n",
    "        fdd[i][0] = y[i] \n",
    "    \n",
    "    print('Tabela triângular inferior das diferenças:')\n",
    "    print(fdd, '\\n')\n",
    "    \n",
    "    for j in range(1,n):\n",
    "        print('Linha a{}:'.format(j-1))\n",
    "        for i in range(n-j):\n",
    "            fdd[i][j] = (fdd[i+1][j-1] - fdd[i][j-1])/(x[i+j]-x[i])\n",
    "            print('f[{},{}] = f[{},{}] - f[{},{}] / x[{}] - x[{}] = {} - {} / {} - {} = {}'.format(i,j,i+1,j-1,i,j-1,i+j,i,fdd[i+1,j-1],fdd[i,j-1],x[i+j],x[i],fdd[i,j]))\n",
    "        print('\\nNova tabela:')\n",
    "        print(fdd,'\\n\\n')\n",
    "    \n",
    "    xterm = 1\n",
    "    yint  = fdd[0][0]\n",
    "    \n",
    "    for order in range(1,n):\n",
    "        xterm = xterm*(xi - x[order-1])\n",
    "        yint  = yint + fdd[0][order]*xterm\n",
    "  \n",
    "    return yint"
   ]
  },
  {
   "cell_type": "code",
   "execution_count": 8,
   "metadata": {},
   "outputs": [
    {
     "name": "stdout",
     "output_type": "stream",
     "text": [
      "Tabela triângular inferior das diferenças:\n",
      "[[ 19.7   0.    0.    0. ]\n",
      " [ 98.3   0.    0.    0. ]\n",
      " [  6.4   0.    0.    0. ]\n",
      " [290.6   0.    0.    0. ]] \n",
      "\n",
      "Linha a0:\n",
      "f[0,1] = f[1,0] - f[0,0] / x[1] - x[0] = 98.3 - 19.7 / 5 - 3 = 39.3\n",
      "f[1,1] = f[2,0] - f[1,0] / x[2] - x[1] = 6.4 - 98.3 / 2 - 5 = 30.63333333333333\n",
      "f[2,1] = f[3,0] - f[2,0] / x[3] - x[2] = 290.6 - 6.4 / 7 - 2 = 56.84000000000001\n",
      "\n",
      "Nova tabela:\n",
      "[[ 19.7         39.3          0.           0.        ]\n",
      " [ 98.3         30.63333333   0.           0.        ]\n",
      " [  6.4         56.84         0.           0.        ]\n",
      " [290.6          0.           0.           0.        ]] \n",
      "\n",
      "\n",
      "Linha a1:\n",
      "f[0,2] = f[1,1] - f[0,1] / x[2] - x[0] = 30.63333333333333 - 39.3 / 2 - 3 = 8.666666666666668\n",
      "f[1,2] = f[2,1] - f[1,1] / x[3] - x[1] = 56.84000000000001 - 30.63333333333333 / 7 - 5 = 13.10333333333334\n",
      "\n",
      "Nova tabela:\n",
      "[[ 19.7         39.3          8.66666667   0.        ]\n",
      " [ 98.3         30.63333333  13.10333333   0.        ]\n",
      " [  6.4         56.84         0.           0.        ]\n",
      " [290.6          0.           0.           0.        ]] \n",
      "\n",
      "\n",
      "Linha a2:\n",
      "f[0,3] = f[1,2] - f[0,2] / x[3] - x[0] = 13.10333333333334 - 8.666666666666668 / 7 - 3 = 1.1091666666666682\n",
      "\n",
      "Nova tabela:\n",
      "[[ 19.7         39.3          8.66666667   1.10916667]\n",
      " [ 98.3         30.63333333  13.10333333   0.        ]\n",
      " [  6.4         56.84         0.           0.        ]\n",
      " [290.6          0.           0.           0.        ]] \n",
      "\n",
      "\n"
     ]
    },
    {
     "data": {
      "text/plain": [
       "70.07031249999999"
      ]
     },
     "execution_count": 8,
     "metadata": {},
     "output_type": "execute_result"
    }
   ],
   "source": [
    "# Teste do algoritmo:\n",
    "\n",
    "x  = np.array([3,5,7,8])\n",
    "y  = np.array([19.7,98.3,290.6,443.9])\n",
    "xp = 4.5\n",
    "interpNewton(x,y,xp)"
   ]
  }
 ],
 "metadata": {
  "kernelspec": {
   "display_name": "Python 3",
   "language": "python",
   "name": "python3"
  },
  "language_info": {
   "codemirror_mode": {
    "name": "ipython",
    "version": 3
   },
   "file_extension": ".py",
   "mimetype": "text/x-python",
   "name": "python",
   "nbconvert_exporter": "python",
   "pygments_lexer": "ipython3",
   "version": "3.9.1"
  }
 },
 "nbformat": 4,
 "nbformat_minor": 4
}
