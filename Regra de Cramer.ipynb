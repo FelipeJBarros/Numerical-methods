{
 "cells": [
  {
   "cell_type": "markdown",
   "metadata": {},
   "source": [
    "## Regra de Cramer:\n",
    "\n",
    "---\n",
    "\n",
    "Um sistema de n equações com n variáveis: x1, x2, ..., xn.\n",
    "\n",
    "a11 x1 + a12x2 + ... + a1n xn = b1\n",
    "\n",
    "a21 x1 + a22x2 + ... + a2n xn = b2\n",
    "\n",
    "...\n",
    "\n",
    "Também podendo ser dividido em matrizes:\n",
    "\n",
    "**A** = Matriz dos coeficientes , **x** = Matriz das variaveis  e  **b** = matriz dos resultados => **Ax = b** \n",
    "\n",
    "***\n",
    "\n",
    "Esse tipo de sistema:\n",
    "\n",
    "- Homogêneo -> **b** = 0 (caso contrário, é não-homogêneo)\n",
    "- Solução   -> É o vetor **x** que satisfaz todas as equações\n",
    "- Pode solucionar através:\n",
    "    - Métodos diretos: usando técnicas de algebra linear\n",
    "    - Métodos interativos : Solução inicial é escolhida e aprimorada ao longe de diversas interações\n",
    "    \n",
    "---\n",
    "\n",
    "O primeiro método direto é o: **Método de Cramer**.\n",
    "\n",
    "A regra de Cramer diz que a variavel xi de um sitema de equações pode ser determinada pela seguinte equação:\n",
    "\n",
    "xi = det(Ai) / det (A);\n",
    "\n",
    "Onde:\n",
    "\n",
    " - Ai: É a matriz dos coeficientes onde a i-esima coluna é igual a matriz **b**;\n",
    " - A : É a matriz dos coeficientes original.\n",
    " \n",
    "O determinando da matriz A é:\n",
    "\n",
    "$$\n",
    "    det(A) = \\sum_{i=1}^{n} a_{i,j} c_{i,j} = \\sum_{j=1}^{n} a_{i,j} c_{i,j}\n",
    "$$\n",
    "\n",
    "O cofator cij associado a aij é dado por:\n",
    "\n",
    "$$\n",
    "    c_{i,j} = (-1)^{i+j} det(A_{i,j})\n",
    "$$\n",
    "\n",
    "Onde:\n",
    "\n",
    "- Aij: É a matriz A com a linha i e a coluna j excluida.\n",
    "\n",
    "Sendo assim, a partir dessas equações vemos que determinando é uma função recursiva."
   ]
  },
  {
   "cell_type": "markdown",
   "metadata": {},
   "source": [
    "#### Algoritmo python para regra de Cramer:"
   ]
  },
  {
   "cell_type": "markdown",
   "metadata": {},
   "source": [
    "Importando os pacotes necessários:"
   ]
  },
  {
   "cell_type": "code",
   "execution_count": null,
   "metadata": {},
   "outputs": [],
   "source": [
    "import numpy as np"
   ]
  },
  {
   "cell_type": "markdown",
   "metadata": {},
   "source": [
    "#### Algoritmos secundários:\n",
    "\n",
    "- Algoritmo de determinantes a partir dos cofatores"
   ]
  },
  {
   "cell_type": "code",
   "execution_count": null,
   "metadata": {},
   "outputs": [],
   "source": [
    "def determinante(A):\n",
    "    det = 0\n",
    "    \n",
    "    #Casos base:\n",
    "    if len(A) == 1:\n",
    "        det = A[0][0]\n",
    "    elif len(A) == 2:\n",
    "        det = A[0][0]*A[1][1] - A[0][1]*A[1][0]\n",
    "        \n",
    "    # Casos complexos: resolução por cofatores\n",
    "    else:\n",
    "        aux = np.zeros((len(A) -1, len(A) - 1))\n",
    "        for i in range(0, len(A)):\n",
    "            if A[0][i] != 0:\n",
    "                i_aux, j_aux = 0, 0\n",
    "                for linha in range(1, len(A)):\n",
    "                    for coluna in range(0, len(A)):\n",
    "                        if coluna != i:\n",
    "                            aux[i_aux][j_aux] = A[linha][coluna]\n",
    "                            j_aux += 1\n",
    "                    i_aux += 1\n",
    "                    j_aux = 0\n",
    "            det += (-1)**(i) * A[0][i] * determinante(aux) \n",
    "            \n",
    "    return det"
   ]
  },
  {
   "cell_type": "markdown",
   "metadata": {},
   "source": [
    "#### Algoritmo de Cramer:"
   ]
  },
  {
   "cell_type": "code",
   "execution_count": null,
   "metadata": {},
   "outputs": [],
   "source": [
    "def Cramer(A, B):\n",
    "    \n",
    "    detA = determinante(A)\n",
    "    X = np.zeros(len(A))\n",
    "   \n",
    "    for i in range(0, len(A)):\n",
    "        aux = A.copy()\n",
    "        for j in range(0, len(A)):\n",
    "            aux[j][i] = B[j]\n",
    "        detj = determinante(aux)\n",
    "        X[i] = detj/detA\n",
    "\n",
    "    return X"
   ]
  }
 ],
 "metadata": {
  "kernelspec": {
   "display_name": "Python 3",
   "language": "python",
   "name": "python3"
  },
  "language_info": {
   "codemirror_mode": {
    "name": "ipython",
    "version": 3
   },
   "file_extension": ".py",
   "mimetype": "text/x-python",
   "name": "python",
   "nbconvert_exporter": "python",
   "pygments_lexer": "ipython3",
   "version": "3.9.1"
  }
 },
 "nbformat": 4,
 "nbformat_minor": 4
}
