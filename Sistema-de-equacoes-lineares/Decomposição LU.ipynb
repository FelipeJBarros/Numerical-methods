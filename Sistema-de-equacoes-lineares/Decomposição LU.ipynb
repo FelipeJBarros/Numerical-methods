{
 "cells": [
  {
   "cell_type": "markdown",
   "metadata": {},
   "source": [
    "## Decomposição LU:\n",
    "\n",
    "- **Fundamentos:**\n",
    "\n",
    "O método da eliminação de Gauss consiste em duas partes. A primeira é o procedimento de transformar o sistema de equações padrão em um sistema triangular superior equivalente. Na segunda parte, o sistema equivalente é solucionado com o emprego de substituição regressiva.\n",
    "\n",
    "Durante o processo de eliminação, a matriz dos coeficiente [a] e o vetor [b] são alterados. Se houver a necessidade de resolver sistemas de equação possuindo a mesma matriz [a], mas diferentes vetores [b] o procedimento deve ser repetido para cada [b]. Seria muito melhor se as operação em [a] pudessem ser dissociadas daquelas realizadas em [b].O Procedimento de eliminação em [a] seria realizado apenas uma vez e então utilizado para resolver o sistema para cada vetor[b].\n",
    "\n",
    "Um método de solução mais eficiente para este caso é o método de **decomposição LU**. As operações com a matriz [a] são feitas sem utilizar ou alterar o vetor [b]. Este só é usado na parte de substituição da solução.\n",
    "\n",
    "O método de decomposição LU pode ser usado para resolver um único sistema de equações lineares, porém, ele é especialmente vantasoso na solução de sistemas que têm a mesma matriz [a], mas diferentes vetores [b].\n",
    "\n",
    "- **O método de decomposição LU:**\n",
    "\n",
    "Nesso método, a matriz [a] é fatorada em um produto de duas matrizes [L][U]:\n",
    "\n",
    "$$\n",
    "    [a] = [L][U] \\hspace1cm (1)\n",
    "$$\n",
    "\n",
    "A matriz [L] (lower) é uma matriz triangular inferior e a matriz [U] (upper) é uma matriz triangular superior. Com essa decomposição, o sistema de equações a ser resolvido tem a forma:\n",
    "\n",
    "$$\n",
    "    [L][U][x] = [b] \\hspace1cm (2)\n",
    "$$\n",
    "\n",
    "Para resolver essa equação, o produto [U][x] é definido como:\n",
    "\n",
    "$$\n",
    "    [U][x] = [y] \\hspace1cm (3)\n",
    "$$\n",
    "\n",
    "Substituindo na eq.(2), temos:\n",
    "\n",
    "$$\n",
    "    [L][y] = [b] \\hspace1cm (4)\n",
    "$$\n",
    "\n",
    "A solução de [x] é obtida em dois passos. Primeiro, a eq.(4) é resolvida para [y]. Em seguida, a solução [y] é substituida na eq.(3) e então é resolvida pra [x].\n",
    "\n",
    "Como a matriz [L] é uma matriz triangular inferior, a solução [y] é obtido através do método da substituição progressiva. De forma semelhante, [U] é uma matriz triangular superior e portanto deve ser resolvda com o método de substiruição regressiva.\n",
    "\n",
    "- **Decomposição LU usando a eliminação de Gauss:**\n",
    "\n",
    "Quando aplicamos o procedimento de eliminação de Gauss em uma matriz [a], os elementos das matrizes [L] e [U] já são calculados automaticamente. A matriz [U] é a matriz [a] obtida ao final do procedimento de eliminação. A matriz [L] não é escrita explicitamente, mas os elementos que a formam são calculados ao longo do caminho. Os elementos da diafonal de [L] são todos iguais a 1. Os elementos abaixo da diagonal são multiplicadores mij que multiplicam a equação pivô quando ela é usada para eliminar os elementos abaixo do coeficiente pivô."
   ]
  },
  {
   "cell_type": "markdown",
   "metadata": {},
   "source": [
    "#### Algoritmos:\n",
    "\n",
    "- Importações"
   ]
  },
  {
   "cell_type": "code",
   "execution_count": 1,
   "metadata": {},
   "outputs": [],
   "source": [
    "import numpy as np"
   ]
  },
  {
   "cell_type": "markdown",
   "metadata": {},
   "source": [
    "- Algoritmos auxiliares:"
   ]
  },
  {
   "cell_type": "code",
   "execution_count": 2,
   "metadata": {},
   "outputs": [],
   "source": [
    "def factorize(A, dim, disp = False):\n",
    "    \n",
    "    # Inicializando a Matriz L com a matriz indentidade:\n",
    "    L = np.identity(dim)\n",
    "    \n",
    "    if disp:\n",
    "        print('Fatorando [A] em [L][U]:\\n')\n",
    "        print('Matriz A inicial:\\n {0}\\n'.format(A))\n",
    "        print('Matriz L inicial:\\n {0}\\n'.format(L))\n",
    "        print('Operando sobre a matriz A:\\n')\n",
    "    \n",
    "    for i in range(0, dim):\n",
    "        for k in range(i+1, dim):\n",
    "            L[k,i] = A[k][i]/A[i][i]\n",
    "            A[k] = A[k] - L[k, i]*A[i]\n",
    "            \n",
    "            if disp:\n",
    "                print('m[{0},{1}] = A[{0},{1}] / A[{0},{0}] = {2}'.format(k,i,L[k,i]))\n",
    "                print('A[{0}] = A[{0}] - {1} * A[{2}] = {3}\\n'.format(k,L[k,i],i,A[k]))\n",
    "    \n",
    "    if disp:\n",
    "        print('Matriz U:\\n {0}\\n'.format(A))\n",
    "        print('Matriz L:\\n {0}\\n'.format(L))\n",
    "    \n",
    "    return L, A"
   ]
  },
  {
   "cell_type": "code",
   "execution_count": 3,
   "metadata": {},
   "outputs": [],
   "source": [
    "def subReg (A, b, dim, disp = False):\n",
    "    \n",
    "    #Definindo o n-simo valor do vetor X:\n",
    "    x = np.zeros(dim)\n",
    "    x[dim - 1] = b[dim - 1]/A[dim - 1][dim - 1]\n",
    "    \n",
    "    #Mostrando dados do componente base:\n",
    "    if disp:\n",
    "        print('Base da substituição regressiva (x[n]):')\n",
    "        print('x[{0}] = b[{0}]/A[{0},{0}]'.format(dim-1))\n",
    "        print('x[{0}] = {1} || b[{0}] = {2} || A[{0},{0}] = {3}\\n'.format(dim-1,x[dim-1],b[dim-1],A[dim-1,dim-1]))\n",
    "    \n",
    "    for i in range(dim - 2, -1, -1):\n",
    "        sum = 0\n",
    "        \n",
    "        # Realizando a soma interna de fatores dependentes:\n",
    "        if disp: print('int {0} - Componentes da soma:'.format(i))\n",
    "        for j in range(i + 1, dim):\n",
    "            sum += A[i][j]*x[j]\n",
    "            if disp: print('A[{0},{1}] = {2} || x[{1}] = {3} || Soma parcial = {4}'.format(i,j,A[i,j],x[j],sum))\n",
    "        \n",
    "        # Calculando as soluções regressivamente:\n",
    "        if disp: print('\\nx[{0}] = ( b[{0}] - sum ) / A[{0},{0}]'.format(i))\n",
    "        x[i] = (b[i] - sum)/A[i,i]\n",
    "        if disp: print('b[{0}] = {1} || sum = {2} || A[{0},{0}] = {3} || x[{0}] = {4}\\n\\n'.format(i,b[i],sum,A[i,i], x[i]))\n",
    "    \n",
    "    # Retorna o array com as soluções do sistema\n",
    "    return x"
   ]
  },
  {
   "cell_type": "code",
   "execution_count": 4,
   "metadata": {},
   "outputs": [],
   "source": [
    "def subProg(A, b, dim, disp = False):\n",
    "    \n",
    "    #Definindo o primeiro valor do vetor X:\n",
    "    x = np.zeros(dim)\n",
    "    x[0] = b[0]/A[0,0]\n",
    "    \n",
    "    #Mostrando dados do componente base:\n",
    "    if disp: \n",
    "        print('Base da substituição progressica (x[0]):')\n",
    "        print('x[{0}] = b[{0}]/A[{0},{0}]'.format(0))\n",
    "        print('x[{0}] = {1} || b[{0}] = {2} || A[{0},{0}] = {3}\\n'.format(0,x[0],b[0],A[0,0]))\n",
    "    \n",
    "    for i in range(1,dim):\n",
    "        sum = 0\n",
    "        \n",
    "        # Realizando a soma interna de fatores dependentes:\n",
    "        if disp: print('int {0} - Componentes da soma:'.format(i))\n",
    "        for j in range(0, i):\n",
    "            sum += A[i,j]*x[j]\n",
    "            if disp: print('A[{0},{1}] = {2} || x[{1}] = {3} || Soma parcial = {4}'.format(i,j,A[i,j],x[j],sum))\n",
    "        \n",
    "        # Calculando as soluções regressivamente:\n",
    "        if disp: print('\\nx[{0}] = ( b[{0}] - sum ) / A[{0},{0}]'.format(i))\n",
    "        x[i] = (b[i] - sum)/A[i,i]\n",
    "        if disp: print('b[{0}] = {1} || sum = {2} || A[{0},{0}] = {3} || x[{0}] = {4}\\n\\n'.format(i,b[i],sum,A[i,i], x[i]))\n",
    "    \n",
    "    return x"
   ]
  },
  {
   "cell_type": "markdown",
   "metadata": {},
   "source": [
    "- Decomposição LU para determinação do vetor [x] (**Método de Doolittle**):"
   ]
  },
  {
   "cell_type": "code",
   "execution_count": 5,
   "metadata": {},
   "outputs": [],
   "source": [
    "def decompLU(L, U, b, dim, disp = False):\n",
    "    \n",
    "    # Primeiro passo: Calcular [L][y] = [b]\n",
    "    y = subProg(L, b, dim, disp)\n",
    "    \n",
    "    # Segundo passo: Calcular [U][x] = [y]\n",
    "    x = subReg(U, y, dim, disp)\n",
    "    \n",
    "    #Retornando o valor de [x]:\n",
    "    return x"
   ]
  },
  {
   "cell_type": "markdown",
   "metadata": {},
   "source": [
    "- Determinação da matriz inversa a partir da decomposição LU:"
   ]
  },
  {
   "cell_type": "code",
   "execution_count": 6,
   "metadata": {},
   "outputs": [],
   "source": [
    "def inversaLU(A, dim, disp = False):\n",
    "    \n",
    "    # Decompondo [A] em [L][U]:\n",
    "    L, U = factorize(A, dim, disp)\n",
    "    \n",
    "    b = np.zeros(dim)\n",
    "    inv = np.empty_like(A)\n",
    "    for i in range(0, dim):\n",
    "        b_aux = b.copy()\n",
    "        b_aux[i] = 1\n",
    "        inv[i] = decompLU(L,U,b_aux,dim, disp)\n",
    "    return np.transpose(inv)"
   ]
  },
  {
   "cell_type": "markdown",
   "metadata": {},
   "source": [
    "#### Teste do algoritmo:"
   ]
  },
  {
   "cell_type": "markdown",
   "metadata": {},
   "source": [
    "- Teste do método de Doolittle:"
   ]
  },
  {
   "cell_type": "code",
   "execution_count": null,
   "metadata": {},
   "outputs": [],
   "source": [
    "# Informações do programa:\n",
    "\n",
    "A = np.array(\n",
    "        [\n",
    "            [2.0, 5.0, 1.0],\n",
    "            [4.0, -4.0, 2.0],\n",
    "            [6.0, -9.0, 1.0]\n",
    "        ]\n",
    "    )\n",
    "\n",
    "b = np.array([-14,-2,-18]);\n",
    "\n",
    "dim = 3\n",
    "\n",
    "# Usando as funções:\n",
    "L, U = factorize(A, dim, disp=True)\n",
    "decompLU(L,U,b,dim)"
   ]
  },
  {
   "cell_type": "markdown",
   "metadata": {},
   "source": [
    "- Decomposição LU para determinação do determinante de [A]:"
   ]
  },
  {
   "cell_type": "code",
   "execution_count": 7,
   "metadata": {},
   "outputs": [
    {
     "name": "stdout",
     "output_type": "stream",
     "text": [
      "[[ 1.  0.  0.]\n",
      " [-3.  1.  0.]\n",
      " [ 5. -4.  1.]] \n",
      "\n",
      "[[  1.  12.  35.]\n",
      " [  0.  16. 112.]\n",
      " [  0.   0. 252.]] \n",
      "\n"
     ]
    }
   ],
   "source": [
    "# Informações do programa:\n",
    "\n",
    "A = np.array(\n",
    "        [\n",
    "            [1.0, 12.0, 35.0],\n",
    "            [-3.0, -20.0, 7.0],\n",
    "            [5.0, -4.0, -21.0]\n",
    "        ]\n",
    "    )\n",
    "\n",
    "dim = 3\n",
    "\n",
    "L, U = factorize(A, dim)\n",
    "\n",
    "print(L,'\\n')\n",
    "print(U,'\\n')\n",
    "\n",
    "# detA = 1\n",
    "# for i in range(0, dim):\n",
    "#    detA *= U[i,i]\n",
    "    \n",
    "# print('\\nO Determinante de A é igual a {0}'.format(detA))"
   ]
  },
  {
   "cell_type": "markdown",
   "metadata": {},
   "source": [
    "- Decomposição LU para a determinação da matriz inversa:"
   ]
  },
  {
   "cell_type": "code",
   "execution_count": null,
   "metadata": {},
   "outputs": [],
   "source": [
    "A = np.array(\n",
    "        [\n",
    "            [6.0, -8.0, 1.0],\n",
    "            [4.0, -4.0, 2.0],\n",
    "            [6.0, -9.0, 1.0]\n",
    "        ]\n",
    "    )\n",
    "inversaLU(A,dim=3, disp=True)"
   ]
  },
  {
   "cell_type": "markdown",
   "metadata": {},
   "source": [
    "##### Algoritmos para prova:"
   ]
  },
  {
   "cell_type": "code",
   "execution_count": null,
   "metadata": {},
   "outputs": [],
   "source": [
    "A = np.array(\n",
    "        [\n",
    "            [1.0, 2.0, 3.0],\n",
    "            [4.0, -4.0, 2.0],\n",
    "            [6.0, -9.0, 1.0]\n",
    "        ]\n",
    "    )"
   ]
  }
 ],
 "metadata": {
  "kernelspec": {
   "display_name": "Python 3",
   "language": "python",
   "name": "python3"
  },
  "language_info": {
   "codemirror_mode": {
    "name": "ipython",
    "version": 3
   },
   "file_extension": ".py",
   "mimetype": "text/x-python",
   "name": "python",
   "nbconvert_exporter": "python",
   "pygments_lexer": "ipython3",
   "version": "3.9.1"
  }
 },
 "nbformat": 4,
 "nbformat_minor": 4
}
