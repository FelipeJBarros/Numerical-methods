{
 "cells": [
  {
   "cell_type": "markdown",
   "metadata": {},
   "source": [
    "## Eliminação de Gauss-Jordan\n",
    "\n",
    "O método de eliminação de Gauss-Jordan é um procedimento utilizado para resolver sistemas na forma [a][x] = [b].\n",
    "\n",
    "O sistemas de equações é manipulado até que se obtenha um sistema equivalente na forma diagonal com elementos normalizados. Sendo assim, ao fim desse processo o novo vetor [b'] é a solução.\n",
    "\n",
    "Partimos de um sistema do tipo:\n",
    "\n",
    "<img src=\"img/eliGaussJordan/img-1.png\" width=300 height=400>\n",
    "\n",
    "E obtemos o novo sistema:\n",
    "\n",
    "<img src=\"img/eliGaussJordan/img-2.png\" width=200 height=300>\n",
    "\n",
    "#### Procedimento de eliminação de Gauss-Jordan\n",
    "\n",
    "O procedimento é muito semelhante ao da eliminação de Gauss, contudo existem duas diferenças:\n",
    "\n",
    "- A equação pivô é normalizada com a divisão de todos os seus termos pelo coeficiente pivô. Isso faz com que o coeficiente pivô seja igual a 1.\n",
    "\n",
    "- A equação pivô é utilizada na eliminação dos elementos fora da diagonal principal em **TODAS** as demais equações. Isso significa que o processo de eliminação é aplicado às equações que estão acima e abaixo da equação pivô.\n",
    "\n",
    "#### Eliminação de Gauss-Jordan com pivotação:\n",
    "\n",
    "Em alguns casos o elemento pivô da linha seja zero e assim é impossível normalizar a linha, por isso que o método de eleminação de Gauss-Jordan também aceita pivotação."
   ]
  },
  {
   "cell_type": "markdown",
   "metadata": {},
   "source": [
    "#### Algoritmos\n",
    "\n",
    "- Importações"
   ]
  },
  {
   "cell_type": "code",
   "execution_count": 1,
   "metadata": {},
   "outputs": [],
   "source": [
    "import numpy as np"
   ]
  },
  {
   "cell_type": "markdown",
   "metadata": {},
   "source": [
    "- Funções"
   ]
  },
  {
   "cell_type": "code",
   "execution_count": 5,
   "metadata": {},
   "outputs": [],
   "source": [
    "def gaussJordan(A, b, dim, rec=True):\n",
    "    \n",
    "    # Imprimindo dados de entrada:\n",
    "    print('Matriz A com dimensão: {0}'.format(dim))\n",
    "    print(A, '\\n')\n",
    "    print('Vetor b:\\n{0}\\n'.format(b))\n",
    "    \n",
    "    # Unindo as matrizes no formato [A b]\n",
    "    A = np.insert(A, dim, b, axis=1)\n",
    "    print('Nova matriz no formato [A b]:')\n",
    "    print(A, '\\n')\n",
    "    \n",
    "    # Pivôtação:\n",
    "    for i in range(0, dim):\n",
    "        if A[i,i] == 0:\n",
    "            print('A linha {0} ( {1} ) não pode ser a linha pivô (coeficiente zero)'.format(i, A[i]))\n",
    "            for j in range(i + 1, dim):\n",
    "                if A[j][i] != 0:\n",
    "                    print('Troca: linha {0} ({1}) -> linha {2} ({3})\\n'.format(i,A[i],j,A[j]))\n",
    "                    linhaTemp = A[i].copy()\n",
    "                    A[i] = A[j]\n",
    "                    A[j] = linhaTemp\n",
    "                    print('Nova matriz pós pivôtação:')\n",
    "                    print(A, '\\n\\n')\n",
    "                    break\n",
    "        \n",
    "        # Fim da pivotação\n",
    "        print('Operações em linhas:\\n\\n')\n",
    "        A[i] = A[i]/A[i,i]\n",
    "        print('A[{0}] = A[{0}]/A[{0},{0}] = {1}\\n'.format(i, A[i]))\n",
    "        for k in range(0, dim):\n",
    "            if k != i and A[k,i] != 0:\n",
    "                A[k] = A[k] - A[i]*A[k,i]\n",
    "                print('A[{0}] = A[{0}] - A[{1}]*A[{0},{1}] = {2}'.format(k, i, A[k]))\n",
    "        print('\\nNova Matriz: \\n', A, '\\n\\n')\n",
    "                \n",
    "            \n",
    "    # Recuperando os valores de b e A\n",
    "    if rec :\n",
    "        for i in range(0, dim):\n",
    "            b[i] = A[i][dim]\n",
    "        \n",
    "        A = np.delete(A, dim, 1)\n",
    "    \n",
    "        return b"
   ]
  },
  {
   "cell_type": "markdown",
   "metadata": {},
   "source": [
    "#### Teste dos algoritmos"
   ]
  },
  {
   "cell_type": "code",
   "execution_count": 9,
   "metadata": {},
   "outputs": [
    {
     "name": "stdout",
     "output_type": "stream",
     "text": [
      "Matriz A com dimensão: 3\n",
      "[[ 1.  2. -2.]\n",
      " [ 2.  3.  1.]\n",
      " [ 3.  2. -4.]] \n",
      "\n",
      "Vetor b:\n",
      "[[1. 0. 0.]\n",
      " [0. 1. 0.]\n",
      " [0. 0. 1.]]\n",
      "\n",
      "Nova matriz no formato [A b]:\n",
      "[[ 1.  2. -2.  1.  0.  0.]\n",
      " [ 2.  3.  1.  0.  1.  0.]\n",
      " [ 3.  2. -4.  0.  0.  1.]] \n",
      "\n",
      "Operações em linhas:\n",
      "\n",
      "\n",
      "A[0] = A[0]/A[0,0] = [ 1.  2. -2.  1.  0.  0.]\n",
      "\n",
      "A[1] = A[1] - A[0]*A[1,0] = [ 0. -1.  5. -2.  1.  0.]\n",
      "A[2] = A[2] - A[0]*A[2,0] = [ 0. -4.  2. -3.  0.  1.]\n",
      "\n",
      "Nova Matriz: \n",
      " [[ 1.  2. -2.  1.  0.  0.]\n",
      " [ 0. -1.  5. -2.  1.  0.]\n",
      " [ 0. -4.  2. -3.  0.  1.]] \n",
      "\n",
      "\n",
      "Operações em linhas:\n",
      "\n",
      "\n",
      "A[1] = A[1]/A[1,1] = [-0.  1. -5.  2. -1. -0.]\n",
      "\n",
      "A[0] = A[0] - A[1]*A[0,1] = [ 1.  0.  8. -3.  2.  0.]\n",
      "A[2] = A[2] - A[1]*A[2,1] = [  0.   0. -18.   5.  -4.   1.]\n",
      "\n",
      "Nova Matriz: \n",
      " [[  1.   0.   8.  -3.   2.   0.]\n",
      " [ -0.   1.  -5.   2.  -1.  -0.]\n",
      " [  0.   0. -18.   5.  -4.   1.]] \n",
      "\n",
      "\n",
      "Operações em linhas:\n",
      "\n",
      "\n",
      "A[2] = A[2]/A[2,2] = [-0.         -0.          1.         -0.27777778  0.22222222 -0.05555556]\n",
      "\n",
      "A[0] = A[0] - A[2]*A[0,2] = [ 1.          0.          0.         -0.77777778  0.22222222  0.44444444]\n",
      "A[1] = A[1] - A[2]*A[1,2] = [-0.          1.          0.          0.61111111  0.11111111 -0.27777778]\n",
      "\n",
      "Nova Matriz: \n",
      " [[ 1.          0.          0.         -0.77777778  0.22222222  0.44444444]\n",
      " [-0.          1.          0.          0.61111111  0.11111111 -0.27777778]\n",
      " [-0.         -0.          1.         -0.27777778  0.22222222 -0.05555556]] \n",
      "\n",
      "\n"
     ]
    }
   ],
   "source": [
    "# Insira aqui a sua matriz A dos coeficientes neste mesmo formato:\n",
    "A = np.array(\n",
    "        [\n",
    "            [1.0, 2.0, -2.0],\n",
    "            [2.0, 3.0, 1.0],\n",
    "            [3.0, 2.0, -4.0]\n",
    "        ]\n",
    "    )\n",
    "\n",
    "# Insira a matriz b dos resultados das equações:\n",
    "b = np.array(\n",
    "    [9.0, 23.0, 11.0]\n",
    ")\n",
    "\n",
    "i = np.identity(3, dtype=float)\n",
    "\n",
    "# Dimensão da matriz A:\n",
    "dim = 3\n",
    "\n",
    "# Chamada da função:\n",
    "gaussJordan(A,i, dim, False)"
   ]
  }
 ],
 "metadata": {
  "kernelspec": {
   "display_name": "Python 3",
   "language": "python",
   "name": "python3"
  },
  "language_info": {
   "codemirror_mode": {
    "name": "ipython",
    "version": 3
   },
   "file_extension": ".py",
   "mimetype": "text/x-python",
   "name": "python",
   "nbconvert_exporter": "python",
   "pygments_lexer": "ipython3",
   "version": "3.9.1"
  }
 },
 "nbformat": 4,
 "nbformat_minor": 4
}
